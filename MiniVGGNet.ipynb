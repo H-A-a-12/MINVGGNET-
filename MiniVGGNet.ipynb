{
  "nbformat": 4,
  "nbformat_minor": 0,
  "metadata": {
    "colab": {
      "name": "MiniVGGNet.ipynb",
      "provenance": []
    },
    "kernelspec": {
      "name": "python3",
      "display_name": "Python 3"
    },
    "accelerator": "TPU"
  },
  "cells": [
    {
      "cell_type": "code",
      "metadata": {
        "id": "V8K7c6aFn7Oo"
      },
      "source": [
        "from tensorflow.python.keras.models import Sequential\n",
        "from tensorflow.python.keras.layers.normalization import BatchNormalization\n",
        "from tensorflow.python.keras.layers.convolutional import Conv2D\n",
        "from tensorflow.python.keras.layers.convolutional import MaxPooling2D\n",
        "from tensorflow.python.keras.layers.core import Activation\n",
        "from tensorflow.python.keras.layers.core import Flatten\n",
        "from tensorflow.python.keras.layers.core import Dropout\n",
        "from tensorflow.python.keras.layers.core import Dense\n",
        "from tensorflow.python.keras import backend as K\n",
        "from sklearn.preprocessing import LabelBinarizer\n",
        "from sklearn.metrics import classification_report\n",
        "from tensorflow.python.keras.optimizers import SGD\n",
        "from tensorflow.python.keras.datasets import cifar10\n",
        "import matplotlib.pyplot as plt\n",
        "import numpy as np\n",
        "%matplotlib inline"
      ],
      "execution_count": null,
      "outputs": []
    },
    {
      "cell_type": "code",
      "metadata": {
        "id": "J5ifPVu4oGjq"
      },
      "source": [
        "def MiniVGGNet(width, height, depth, classes):\n",
        "    model = Sequential()\n",
        "    inputShape = (height, width, depth)\n",
        "    chanDim = -1\n",
        "\n",
        "    if K.image_data_format()==\"channels_first\":\n",
        "        inputShape = (depth, height, width)\n",
        "        chanDim = 1\n",
        "\n",
        "    model.add(Conv2D(32, (3,3), padding = \"same\", input_shape = inputShape))\n",
        "    model.add(Activation(\"relu\"))\n",
        "    model.add(BatchNormalization(axis=chanDim))\n",
        "    model.add(Conv2D(32, (3,3), padding = \"same\"))\n",
        "    model.add(Activation(\"relu\"))\n",
        "    model.add(BatchNormalization(axis=chanDim))\n",
        "    model.add(MaxPooling2D(pool_size=(2,2)))\n",
        "    model.add(Dropout(0.25))\n",
        "    model.add(Conv2D(64, (3,3), padding = \"same\"))\n",
        "    model.add(Activation(\"relu\"))\n",
        "    model.add(BatchNormalization(axis=chanDim))\n",
        "    model.add(Conv2D(64, (3,3), padding = \"same\"))\n",
        "    model.add(Activation(\"relu\"))\n",
        "    model.add(BatchNormalization(axis=chanDim))\n",
        "    model.add(MaxPooling2D(pool_size=(2,2)))\n",
        "    model.add(Dropout(0.25))\n",
        "    model.add(Flatten())\n",
        "    model.add(Dense(512))\n",
        "    model.add(Activation(\"relu\"))\n",
        "    model.add(BatchNormalization())\n",
        "    model.add(Dropout(0.5))\n",
        "    model.add(Dense(classes))\n",
        "    model.add(Activation(\"softmax\"))\n",
        "    return model"
      ],
      "execution_count": null,
      "outputs": []
    },
    {
      "cell_type": "code",
      "metadata": {
        "id": "nXiDpPLBoXKz",
        "outputId": "3331bedd-5bed-47ce-a7c0-1dbd4880cf38",
        "colab": {
          "base_uri": "https://localhost:8080/",
          "height": 72
        }
      },
      "source": [
        "print(\"Loading CIFAR-10 data . . . \")\n",
        "((trainX, trainY), (testX, testY)) = cifar10.load_data()\n",
        "\n",
        "trainX = trainX.astype(\"float\") / 255.0\n",
        "testX = testX.astype(\"float\") / 255.0"
      ],
      "execution_count": null,
      "outputs": [
        {
          "output_type": "stream",
          "text": [
            "Loading CIFAR-10 data . . . \n",
            "Downloading data from https://www.cs.toronto.edu/~kriz/cifar-10-python.tar.gz\n",
            "170500096/170498071 [==============================] - 2s 0us/step\n"
          ],
          "name": "stdout"
        }
      ]
    },
    {
      "cell_type": "code",
      "metadata": {
        "id": "Ih6HMzHnohAK"
      },
      "source": [
        "lb = LabelBinarizer()\n",
        "trainY = lb.fit_transform(trainY)\n",
        "testY = lb.transform(testY)"
      ],
      "execution_count": null,
      "outputs": []
    },
    {
      "cell_type": "code",
      "metadata": {
        "id": "jaOvzWoLole9"
      },
      "source": [
        "labelNames = [\"airplane\", \"automobile\", \"bird\", \"cat\", \"deer\", \"dog\", \"frog\", \"horse\", \"ship\", \"truck\"]"
      ],
      "execution_count": null,
      "outputs": []
    },
    {
      "cell_type": "code",
      "metadata": {
        "id": "JZVOj0emoo3W",
        "outputId": "b8877ddf-8f19-40ff-e306-bbc3eccd9c7c",
        "colab": {
          "base_uri": "https://localhost:8080/",
          "height": 35
        }
      },
      "source": [
        "print(\"Compiling Model . . .\")\n",
        "opt = SGD(lr=0.01, decay=0.01 / 40, momentum=0.9, nesterov=True)\n",
        "model = MiniVGGNet(width=32, height=32, depth=3, classes=10)\n",
        "model.compile(loss=\"categorical_crossentropy\", optimizer='rmsprop', metrics=[\"accuracy\"])"
      ],
      "execution_count": null,
      "outputs": [
        {
          "output_type": "stream",
          "text": [
            "Compiling Model . . .\n"
          ],
          "name": "stdout"
        }
      ]
    },
    {
      "cell_type": "code",
      "metadata": {
        "id": "oeYLN1sEpBHR",
        "outputId": "9cb73a7f-d2c7-4954-efb8-32364815366a",
        "colab": {
          "base_uri": "https://localhost:8080/",
          "height": 762
        }
      },
      "source": [
        "print(\"Training Neural Network . . .\")\n",
        "H = model.fit(trainX, trainY, validation_data=(testX, testY),\n",
        "batch_size=100, epochs=20, verbose=1)"
      ],
      "execution_count": null,
      "outputs": [
        {
          "output_type": "stream",
          "text": [
            "Training Neural Network . . .\n",
            "Epoch 1/20\n",
            "500/500 [==============================] - 327s 653ms/step - loss: 1.0213 - accuracy: 0.6438 - val_loss: 0.9424 - val_accuracy: 0.6717\n",
            "Epoch 2/20\n",
            "500/500 [==============================] - 327s 655ms/step - loss: 0.8370 - accuracy: 0.7085 - val_loss: 0.8417 - val_accuracy: 0.7102\n",
            "Epoch 3/20\n",
            "500/500 [==============================] - 322s 645ms/step - loss: 0.7396 - accuracy: 0.7402 - val_loss: 0.7239 - val_accuracy: 0.7558\n",
            "Epoch 4/20\n",
            "500/500 [==============================] - 324s 649ms/step - loss: 0.6632 - accuracy: 0.7681 - val_loss: 0.7367 - val_accuracy: 0.7467\n",
            "Epoch 5/20\n",
            "500/500 [==============================] - 322s 644ms/step - loss: 0.6034 - accuracy: 0.7879 - val_loss: 0.6976 - val_accuracy: 0.7658\n",
            "Epoch 6/20\n",
            "500/500 [==============================] - 328s 657ms/step - loss: 0.5513 - accuracy: 0.8079 - val_loss: 0.6576 - val_accuracy: 0.7811\n",
            "Epoch 7/20\n",
            "500/500 [==============================] - 322s 643ms/step - loss: 0.5076 - accuracy: 0.8233 - val_loss: 0.5878 - val_accuracy: 0.8026\n",
            "Epoch 8/20\n",
            "500/500 [==============================] - 325s 649ms/step - loss: 0.4749 - accuracy: 0.8345 - val_loss: 0.6282 - val_accuracy: 0.7911\n",
            "Epoch 9/20\n",
            "500/500 [==============================] - 322s 643ms/step - loss: 0.4438 - accuracy: 0.8465 - val_loss: 0.6396 - val_accuracy: 0.7940\n",
            "Epoch 10/20\n",
            "500/500 [==============================] - 325s 649ms/step - loss: 0.4147 - accuracy: 0.8547 - val_loss: 0.6923 - val_accuracy: 0.7940\n",
            "Epoch 11/20\n",
            "500/500 [==============================] - 321s 641ms/step - loss: 0.3944 - accuracy: 0.8633 - val_loss: 0.6719 - val_accuracy: 0.7966\n",
            "Epoch 12/20\n",
            "500/500 [==============================] - 323s 645ms/step - loss: 0.3695 - accuracy: 0.8705 - val_loss: 0.7984 - val_accuracy: 0.7813\n",
            "Epoch 13/20\n",
            "500/500 [==============================] - 320s 641ms/step - loss: 0.3524 - accuracy: 0.8780 - val_loss: 0.6679 - val_accuracy: 0.8117\n",
            "Epoch 14/20\n",
            "500/500 [==============================] - 323s 646ms/step - loss: 0.3318 - accuracy: 0.8843 - val_loss: 0.5908 - val_accuracy: 0.8102\n",
            "Epoch 15/20\n",
            "500/500 [==============================] - 319s 639ms/step - loss: 0.3182 - accuracy: 0.8908 - val_loss: 0.7241 - val_accuracy: 0.8104\n",
            "Epoch 16/20\n",
            "500/500 [==============================] - 322s 644ms/step - loss: 0.3023 - accuracy: 0.8946 - val_loss: 0.6633 - val_accuracy: 0.8111\n",
            "Epoch 17/20\n",
            "500/500 [==============================] - 324s 648ms/step - loss: 0.2930 - accuracy: 0.8984 - val_loss: 0.6407 - val_accuracy: 0.8152\n",
            "Epoch 18/20\n",
            "500/500 [==============================] - 319s 638ms/step - loss: 0.2893 - accuracy: 0.8999 - val_loss: 0.6353 - val_accuracy: 0.8208\n",
            "Epoch 19/20\n",
            "500/500 [==============================] - 323s 647ms/step - loss: 0.2701 - accuracy: 0.9065 - val_loss: 0.7351 - val_accuracy: 0.8144\n",
            "Epoch 20/20\n",
            "500/500 [==============================] - 320s 640ms/step - loss: 0.2655 - accuracy: 0.9090 - val_loss: 0.8423 - val_accuracy: 0.8106\n"
          ],
          "name": "stdout"
        }
      ]
    },
    {
      "cell_type": "code",
      "metadata": {
        "id": "DH_EVKKMC2uJ",
        "outputId": "ad1a4bdd-3ca8-4422-d4b4-b002bfe1dd4d",
        "colab": {
          "base_uri": "https://localhost:8080/",
          "height": 344
        }
      },
      "source": [
        "print(\"Evaluating Neural network...\")\n",
        "predictions = model.predict(testX, batch_size=64)\n",
        "print(classification_report(testY.argmax(axis=1), predictions.argmax(axis=1), target_names=labelNames))"
      ],
      "execution_count": null,
      "outputs": [
        {
          "output_type": "stream",
          "text": [
            "Evaluating Neural network...\n",
            "              precision    recall  f1-score   support\n",
            "\n",
            "    airplane       0.82      0.85      0.84      1000\n",
            "  automobile       0.91      0.90      0.91      1000\n",
            "        bird       0.72      0.70      0.71      1000\n",
            "         cat       0.72      0.59      0.65      1000\n",
            "        deer       0.81      0.76      0.79      1000\n",
            "         dog       0.71      0.74      0.73      1000\n",
            "        frog       0.76      0.92      0.83      1000\n",
            "       horse       0.90      0.81      0.85      1000\n",
            "        ship       0.89      0.90      0.89      1000\n",
            "       truck       0.87      0.92      0.89      1000\n",
            "\n",
            "    accuracy                           0.81     10000\n",
            "   macro avg       0.81      0.81      0.81     10000\n",
            "weighted avg       0.81      0.81      0.81     10000\n",
            "\n"
          ],
          "name": "stdout"
        }
      ]
    },
    {
      "cell_type": "code",
      "metadata": {
        "id": "6BS6b6-qC9Ii"
      },
      "source": [
        "acc = H.history['accuracy']\n",
        "val_acc = H.history['val_accuracy']\n",
        "loss = H.history['loss']\n",
        "val_loss = H.history['val_loss']\n",
        "\n",
        "epochs = range(1, len(acc) + 1)"
      ],
      "execution_count": null,
      "outputs": []
    },
    {
      "cell_type": "code",
      "metadata": {
        "id": "FrQLa0zwDDo5",
        "outputId": "0e95c1ea-47ae-44ad-8189-0ee6318ad3f3",
        "colab": {
          "base_uri": "https://localhost:8080/",
          "height": 317
        }
      },
      "source": [
        "plt.plot(epochs, acc, 'bo', label='Training acc')\n",
        "plt.plot(epochs, val_acc, 'b', label='Validation acc')\n",
        "plt.title('Training and Validation accuracy')\n",
        "plt.legend()\n",
        "plt.figure()"
      ],
      "execution_count": null,
      "outputs": [
        {
          "output_type": "execute_result",
          "data": {
            "text/plain": [
              "<Figure size 432x288 with 0 Axes>"
            ]
          },
          "metadata": {
            "tags": []
          },
          "execution_count": 15
        },
        {
          "output_type": "display_data",
          "data": {
            "image/png": "[encoded data removed]",
            "text/plain": [
              "<Figure size 432x288 with 1 Axes>"
            ]
          },
          "metadata": {
            "tags": [],
            "needs_background": "light"
          }
        },
        {
          "output_type": "display_data",
          "data": {
            "text/plain": [
              "<Figure size 432x288 with 0 Axes>"
            ]
          },
          "metadata": {
            "tags": []
          }
        }
      ]
    },
    {
      "cell_type": "code",
      "metadata": {
        "id": "tkANCY1JDIzS",
        "outputId": "d2d0a937-699d-4ca8-9b1f-aa2b2663ebe4",
        "colab": {
          "base_uri": "https://localhost:8080/",
          "height": 317
        }
      },
      "source": [
        "plt.plot(epochs, loss, 'bo', label='Training loss')\n",
        "plt.plot(epochs, val_loss, 'b', label='Validation loss')\n",
        "plt.title('Training and Validation loss')\n",
        "plt.legend()\n",
        "plt.figure()"
      ],
      "execution_count": null,
      "outputs": [
        {
          "output_type": "execute_result",
          "data": {
            "text/plain": [
              "<Figure size 432x288 with 0 Axes>"
            ]
          },
          "metadata": {
            "tags": []
          },
          "execution_count": 16
        },
        {
          "output_type": "display_data",
          "data": {
            "image/png": "[encoded data removed]",
            "text/plain": [
              "<Figure size 432x288 with 1 Axes>"
            ]
          },
          "metadata": {
            "tags": [],
            "needs_background": "light"
          }
        },
        {
          "output_type": "display_data",
          "data": {
            "text/plain": [
              "<Figure size 432x288 with 0 Axes>"
            ]
          },
          "metadata": {
            "tags": []
          }
        }
      ]
    }
  ]
}